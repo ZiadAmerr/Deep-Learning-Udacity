{
 "cells": [
  {
   "cell_type": "markdown",
   "metadata": {
    "id": "pJAWnBFlkE2w"
   },
   "source": [
    "# LSTM Bot\n",
    "\n",
    "## Project Overview\n",
    "\n",
    "In this project, you will build a chatbot that can converse with you at the command line. The chatbot will use a Sequence to Sequence text generation architecture with an LSTM as it's memory unit. You will also learn to use pretrained word embeddings to improve the performance of the model. At the conclusion of the project, you will be able to show your chatbot to potential employers.\n",
    "\n",
    "Additionally, you have the option to use pretrained word embeddings in your model. We have loaded Brown Embeddings from Gensim in the starter code below. You can compare the performance of your model with pre-trained embeddings against a model without the embeddings.\n",
    "\n",
    "\n",
    "\n",
    "---\n",
    "\n",
    "\n",
    "\n",
    "A sequence to sequence model (Seq2Seq) has two components:\n",
    "- An Encoder consisting of an embedding layer and LSTM unit.\n",
    "- A Decoder consisting of an embedding layer, LSTM unit, and linear output unit.\n",
    "\n",
    "The Seq2Seq model works by accepting an input into the Encoder, passing the hidden state from the Encoder to the Decoder, which the Decoder uses to output a series of token predictions.\n",
    "\n",
    "## Dependencies\n",
    "\n",
    "- Pytorch\n",
    "- Numpy\n",
    "- Pandas\n",
    "- NLTK\n",
    "- Gzip\n",
    "- Gensim\n",
    "\n",
    "\n",
    "Please choose a dataset from the Torchtext website. We recommend looking at the Squad dataset first. Here is a link to the website where you can view your options:\n",
    "\n",
    "- https://pytorch.org/text/stable/datasets.html\n",
    "\n",
    "\n",
    "\n"
   ]
  },
  {
   "cell_type": "code",
   "execution_count": 1,
   "metadata": {},
   "outputs": [
    {
     "name": "stdout",
     "output_type": "stream",
     "text": [
      "Defaulting to user installation because normal site-packages is not writeable\n",
      "Collecting torchdata\n",
      "  Downloading torchdata-0.4.1-cp37-cp37m-manylinux_2_17_x86_64.manylinux2014_x86_64.whl (4.4 MB)\n",
      "\u001b[K     |████████████████████████████████| 4.4 MB 4.6 MB/s eta 0:00:01\n",
      "\u001b[?25hRequirement already satisfied: requests in /opt/conda/lib/python3.7/site-packages (from torchdata) (2.23.0)\n",
      "Collecting torch==1.12.1\n",
      "  Downloading torch-1.12.1-cp37-cp37m-manylinux1_x86_64.whl (776.3 MB)\n"
     ]
    },
    {
     "name": "stdout",
     "output_type": "stream",
     "text": [
      "\u001b[K     |█████████████▏                  | 318.2 MB 6.7 MB/s eta 0:01:088   |▏                               | 3.0 MB 28.2 MB/s eta 0:00:28     |▎                               | 5.6 MB 28.2 MB/s eta 0:00:28     |▍                               | 10.5 MB 28.2 MB/s eta 0:00:28     |▌                               | 13.3 MB 28.2 MB/s eta 0:00:28     |▋                               | 14.3 MB 28.2 MB/s eta 0:00:27     |▊                               | 18.0 MB 10.6 MB/s eta 0:01:12     |▉                               | 19.8 MB 10.6 MB/s eta 0:01:12     |█                               | 21.8 MB 10.6 MB/s eta 0:01:12     |█                               | 24.5 MB 10.6 MB/s eta 0:01:11     |█▎                              | 30.2 MB 10.6 MB/s eta 0:01:11     |█▉                              | 44.5 MB 14.1 MB/s eta 0:00:52     |██                              | 49.4 MB 14.1 MB/s eta 0:00:52     |██▏                             | 52.1 MB 8.9 MB/s eta 0:01:22     |██▎                             | 54.7 MB 8.9 MB/s eta 0:01:21     |██▍                             | 58.6 MB 8.9 MB/s eta 0:01:21     |██▋                             | 62.2 MB 8.9 MB/s eta 0:01:21     |███                             | 74.2 MB 14.6 MB/s eta 0:00:49     |███▏                            | 76.0 MB 14.6 MB/s eta 0:00:49     |███▋                            | 87.0 MB 15.1 MB/s eta 0:00:46     |███▋                            | 87.9 MB 15.1 MB/s eta 0:00:46     |███▋                            | 88.7 MB 15.1 MB/s eta 0:00:46     |███▉                            | 91.9 MB 15.1 MB/s eta 0:00:46     |████                            | 98.0 MB 15.1 MB/s eta 0:00:45     |████                            | 98.7 MB 15.1 MB/s eta 0:00:45     |████                            | 99.2 MB 10.2 MB/s eta 0:01:07     |████▏                           | 100.2 MB 10.2 MB/s eta 0:01:07     |████▏                           | 101.4 MB 10.2 MB/s eta 0:01:06     |████▎                           | 103.0 MB 10.2 MB/s eta 0:01:06     |████▎                           | 103.9 MB 10.2 MB/s eta 0:01:06     |████▋                           | 112.3 MB 10.2 MB/s eta 0:01:05     |████▉                           | 116.3 MB 5.0 MB/s eta 0:02:12     |█████                           | 122.2 MB 5.0 MB/s eta 0:02:11     |█████                           | 123.0 MB 5.0 MB/s eta 0:02:10     |█████▏                          | 124.7 MB 5.0 MB/s eta 0:02:10     |█████▏                          | 125.4 MB 5.0 MB/s eta 0:02:10     |█████▋                          | 136.6 MB 5.3 MB/s eta 0:02:01     |█████▉                          | 140.4 MB 5.3 MB/s eta 0:02:01     |██████                          | 145.1 MB 8.0 MB/s eta 0:01:19     |██████                          | 146.6 MB 8.0 MB/s eta 0:01:19     |██████▏                         | 148.4 MB 8.0 MB/s eta 0:01:19     |██████▍                         | 155.3 MB 12.9 MB/s eta 0:00:48     |██████▍                         | 156.1 MB 12.9 MB/s eta 0:00:48     |██████▌                         | 158.3 MB 12.9 MB/s eta 0:00:48     |██████▋                         | 161.6 MB 12.9 MB/s eta 0:00:48     |███████                         | 168.8 MB 12.9 MB/s eta 0:00:47     |███████▏                        | 172.5 MB 11.3 MB/s eta 0:00:54     |███████▏                        | 174.8 MB 11.3 MB/s eta 0:00:54     |███████▎                        | 175.6 MB 11.3 MB/s eta 0:00:54     |███████▎                        | 177.2 MB 11.3 MB/s eta 0:00:53     |███████▍                        | 177.9 MB 11.3 MB/s eta 0:00:53     |███████▍                        | 179.5 MB 11.3 MB/s eta 0:00:53     |███████▌                        | 181.7 MB 11.3 MB/s eta 0:00:53     |███████▋                        | 183.3 MB 13.9 MB/s eta 0:00:43     |███████▋                        | 184.8 MB 13.9 MB/s eta 0:00:43     |███████▉                        | 189.8 MB 13.9 MB/s eta 0:00:43     |███████▉                        | 190.5 MB 13.9 MB/s eta 0:00:43     |████████                        | 195.9 MB 13.9 MB/s eta 0:00:42     |████████▏                       | 197.9 MB 16.8 MB/s eta 0:00:35     |████████▏                       | 199.3 MB 16.8 MB/s eta 0:00:35     |████████▋                       | 208.6 MB 16.8 MB/s eta 0:00:34     |████████▊                       | 210.9 MB 28.8 MB/s eta 0:00:20     |████████▊                       | 211.6 MB 28.8 MB/s eta 0:00:20     |█████████                       | 219.1 MB 28.8 MB/s eta 0:00:20     |█████████▏                      | 223.1 MB 28.8 MB/s eta 0:00:20     |█████████▎                      | 224.0 MB 6.6 MB/s eta 0:01:24     |█████████▍                      | 228.7 MB 6.6 MB/s eta 0:01:24     |█████████▌                      | 231.0 MB 6.6 MB/s eta 0:01:23     |█████████▋                      | 234.0 MB 6.6 MB/s eta 0:01:23     |█████████▊                      | 236.7 MB 6.6 MB/s eta 0:01:22     |█████████▉                      | 238.2 MB 5.3 MB/s eta 0:01:42     |██████████                      | 240.5 MB 5.3 MB/s eta 0:01:41     |██████████                      | 241.3 MB 5.3 MB/s eta 0:01:41     |██████████                      | 241.9 MB 5.3 MB/s eta 0:01:41     |██████████                      | 242.7 MB 5.3 MB/s eta 0:01:41     |██████████▏                     | 247.6 MB 5.3 MB/s eta 0:01:40     |██████████▎                     | 248.5 MB 5.3 MB/s eta 0:01:40     |██████████▎                     | 250.0 MB 5.3 MB/s eta 0:01:39     |██████████▎                     | 250.6 MB 9.5 MB/s eta 0:00:56     |██████████▍                     | 251.4 MB 9.5 MB/s eta 0:00:56     |██████████▌                     | 255.2 MB 9.5 MB/s eta 0:00:55     |██████████▋                     | 256.7 MB 9.5 MB/s eta 0:00:55     |██████████▊                     | 259.6 MB 9.5 MB/s eta 0:00:55     |██████████▊                     | 260.4 MB 9.5 MB/s eta 0:00:55     |██████████▉                     | 261.9 MB 9.5 MB/s eta 0:00:55     |███████████                     | 264.3 MB 10.6 MB/s eta 0:00:49     |███████████                     | 266.2 MB 10.6 MB/s eta 0:00:49     |███████████                     | 268.3 MB 10.6 MB/s eta 0:00:49     |███████████▍                    | 275.3 MB 10.6 MB/s eta 0:00:48     |███████████▍                    | 276.0 MB 10.6 MB/s eta 0:00:48     |███████████▌                    | 277.7 MB 5.3 MB/s eta 0:01:34     |███████████▌                    | 278.4 MB 5.3 MB/s eta 0:01:34     |███████████▌                    | 279.1 MB 5.3 MB/s eta 0:01:34     |███████████▋                    | 280.5 MB 5.3 MB/s eta 0:01:34     |███████████▋                    | 281.8 MB 5.3 MB/s eta 0:01:34     |███████████▋                    | 282.9 MB 5.3 MB/s eta 0:01:33     |███████████▊                    | 283.5 MB 5.3 MB/s eta 0:01:33     |███████████▊                    | 284.1 MB 5.3 MB/s eta 0:01:33     |███████████▉                    | 286.3 MB 5.3 MB/s eta 0:01:33     |████████████                    | 289.2 MB 5.2 MB/s eta 0:01:34     |████████████▏                   | 294.7 MB 5.2 MB/s eta 0:01:33     |████████████▎                   | 297.7 MB 5.2 MB/s eta 0:01:33     |████████████▎                   | 298.4 MB 5.2 MB/s eta 0:01:33     |████████████▌                   | 302.2 MB 5.2 MB/s eta 0:01:32     |████████████▋                   | 305.1 MB 5.2 MB/s eta 0:01:32     |████████████▋                   | 305.8 MB 5.2 MB/s eta 0:01:31     |████████████▊                   | 309.0 MB 5.2 MB/s eta 0:01:31     |████████████▊                   | 309.8 MB 5.2 MB/s eta 0:01:31     |████████████▉                   | 311.3 MB 5.2 MB/s eta 0:01:30     |█████████████                   | 312.9 MB 5.2 MB/s eta 0:01:30     |█████████████                   | 316.7 MB 6.7 MB/s eta 0:01:09     |█████████████                   | 317.5 MB 6.7 MB/s eta 0:01:09\r",
      "\u001b[K     |█████████████▏                  | 318.2 MB 6.7 MB/s eta 0:01:08\r",
      "\u001b[K     |█████████████▏                  | 318.2 MB 6.7 MB/s eta 0:01:08\r",
      "\u001b[K     |█████████████▏                  | 318.2 MB 6.7 MB/s eta 0:01:08\r",
      "\u001b[K     |█████████████▏                  | 318.2 MB 6.7 MB/s eta 0:01:08\r",
      "\u001b[K     |█████████████▏                  | 318.2 MB 6.7 MB/s eta 0:01:08\r",
      "\u001b[K     |█████████████▏                  | 318.3 MB 6.7 MB/s eta 0:01:08\r",
      "\u001b[K     |█████████████▏                  | 318.3 MB 6.7 MB/s eta 0:01:08\r",
      "\u001b[K     |█████████████▏                  | 318.3 MB 6.7 MB/s eta 0:01:08\r",
      "\u001b[K     |█████████████▏                  | 318.3 MB 6.7 MB/s eta 0:01:08\r",
      "\u001b[K     |█████████████▏                  | 318.3 MB 6.7 MB/s eta 0:01:08\r",
      "\u001b[K     |█████████████▏                  | 318.3 MB 6.7 MB/s eta 0:01:08\r",
      "\u001b[K     |█████████████▏                  | 318.3 MB 6.7 MB/s eta 0:01:08\r",
      "\u001b[K     |█████████████▏                  | 318.3 MB 6.7 MB/s eta 0:01:08\r",
      "\u001b[K     |█████████████▏                  | 318.3 MB 6.7 MB/s eta 0:01:08\r",
      "\u001b[K     |█████████████▏                  | 318.4 MB 6.7 MB/s eta 0:01:08\r",
      "\u001b[K     |█████████████▏                  | 318.4 MB 6.7 MB/s eta 0:01:08\r",
      "\u001b[K     |█████████████▏                  | 318.4 MB 6.7 MB/s eta 0:01:08\r",
      "\u001b[K     |█████████████▏                  | 318.4 MB 6.7 MB/s eta 0:01:08\r",
      "\u001b[K     |█████████████▏                  | 318.4 MB 6.7 MB/s eta 0:01:08\r",
      "\u001b[K     |█████████████▏                  | 318.4 MB 6.7 MB/s eta 0:01:08\r",
      "\u001b[K     |█████████████▏                  | 318.4 MB 6.7 MB/s eta 0:01:08\r",
      "\u001b[K     |█████████████▏                  | 318.4 MB 6.7 MB/s eta 0:01:08\r",
      "\u001b[K     |█████████████▏                  | 318.4 MB 6.7 MB/s eta 0:01:08\r",
      "\u001b[K     |█████████████▏                  | 318.4 MB 6.7 MB/s eta 0:01:08\r",
      "\u001b[K     |█████████████▏                  | 318.5 MB 6.7 MB/s eta 0:01:08\r",
      "\u001b[K     |█████████████▏                  | 318.5 MB 6.7 MB/s eta 0:01:08\r",
      "\u001b[K     |█████████████▏                  | 318.5 MB 6.7 MB/s eta 0:01:08\r",
      "\u001b[K     |█████████████▏                  | 318.5 MB 6.7 MB/s eta 0:01:08\r",
      "\u001b[K     |█████████████▏                  | 318.5 MB 6.7 MB/s eta 0:01:08\r",
      "\u001b[K     |█████████████▏                  | 318.5 MB 6.7 MB/s eta 0:01:08\r",
      "\u001b[K     |█████████████▏                  | 318.5 MB 6.7 MB/s eta 0:01:08\r",
      "\u001b[K     |█████████████▏                  | 318.5 MB 6.7 MB/s eta 0:01:08\r",
      "\u001b[K     |█████████████▏                  | 318.5 MB 6.7 MB/s eta 0:01:08\r",
      "\u001b[K     |█████████████▏                  | 318.5 MB 6.7 MB/s eta 0:01:08\r",
      "\u001b[K     |█████████████▏                  | 318.6 MB 6.7 MB/s eta 0:01:08\r",
      "\u001b[K     |█████████████▏                  | 318.6 MB 6.7 MB/s eta 0:01:08\r",
      "\u001b[K     |█████████████▏                  | 318.6 MB 6.7 MB/s eta 0:01:08\r",
      "\u001b[K     |█████████████▏                  | 318.6 MB 6.7 MB/s eta 0:01:08\r",
      "\u001b[K     |█████████████▏                  | 318.6 MB 6.7 MB/s eta 0:01:08\r",
      "\u001b[K     |█████████████▏                  | 318.6 MB 6.7 MB/s eta 0:01:08\r",
      "\u001b[K     |█████████████▏                  | 318.6 MB 6.7 MB/s eta 0:01:08\r",
      "\u001b[K     |█████████████▏                  | 318.6 MB 6.7 MB/s eta 0:01:08\r",
      "\u001b[K     |█████████████▏                  | 318.6 MB 6.7 MB/s eta 0:01:08\r",
      "\u001b[K     |█████████████▏                  | 318.6 MB 6.7 MB/s eta 0:01:08\r",
      "\u001b[K     |█████████████▏                  | 318.7 MB 6.7 MB/s eta 0:01:08\r",
      "\u001b[K     |█████████████▏                  | 318.7 MB 6.7 MB/s eta 0:01:08\r",
      "\u001b[K     |█████████████▏                  | 318.7 MB 6.7 MB/s eta 0:01:08\r",
      "\u001b[K     |█████████████▏                  | 318.7 MB 6.7 MB/s eta 0:01:08\r",
      "\u001b[K     |█████████████▏                  | 318.7 MB 6.7 MB/s eta 0:01:08\r",
      "\u001b[K     |█████████████▏                  | 318.7 MB 6.7 MB/s eta 0:01:08\r",
      "\u001b[K     |█████████████▏                  | 318.7 MB 6.7 MB/s eta 0:01:08\r",
      "\u001b[K     |█████████████▏                  | 318.7 MB 6.7 MB/s eta 0:01:08\r",
      "\u001b[K     |█████████████▏                  | 318.7 MB 6.7 MB/s eta 0:01:08\r",
      "\u001b[K     |█████████████▏                  | 318.8 MB 6.7 MB/s eta 0:01:08\r",
      "\u001b[K     |█████████████▏                  | 318.8 MB 6.7 MB/s eta 0:01:08\r",
      "\u001b[K     |█████████████▏                  | 318.8 MB 6.7 MB/s eta 0:01:08\r",
      "\u001b[K     |█████████████▏                  | 318.8 MB 6.7 MB/s eta 0:01:08\r",
      "\u001b[K     |█████████████▏                  | 318.8 MB 6.7 MB/s eta 0:01:08\r",
      "\u001b[K     |█████████████▏                  | 318.8 MB 6.7 MB/s eta 0:01:08\r",
      "\u001b[K     |█████████████▏                  | 318.8 MB 6.7 MB/s eta 0:01:08\r",
      "\u001b[K     |█████████████▏                  | 318.8 MB 6.7 MB/s eta 0:01:08\r",
      "\u001b[K     |█████████████▏                  | 318.8 MB 6.7 MB/s eta 0:01:08\r",
      "\u001b[K     |█████████████▏                  | 318.8 MB 6.7 MB/s eta 0:01:08\r",
      "\u001b[K     |█████████████▏                  | 318.9 MB 6.7 MB/s eta 0:01:08\r",
      "\u001b[K     |█████████████▏                  | 318.9 MB 6.7 MB/s eta 0:01:08\r",
      "\u001b[K     |█████████████▏                  | 318.9 MB 6.7 MB/s eta 0:01:08\r",
      "\u001b[K     |█████████████▏                  | 318.9 MB 6.7 MB/s eta 0:01:08\r",
      "\u001b[K     |█████████████▏                  | 318.9 MB 6.7 MB/s eta 0:01:08\r",
      "\u001b[K     |█████████████▏                  | 318.9 MB 6.7 MB/s eta 0:01:08\r",
      "\u001b[K     |█████████████▏                  | 318.9 MB 6.7 MB/s eta 0:01:08\r",
      "\u001b[K     |█████████████▏                  | 318.9 MB 6.7 MB/s eta 0:01:08\r",
      "\u001b[K     |█████████████▏                  | 318.9 MB 6.7 MB/s eta 0:01:08\r",
      "\u001b[K     |█████████████▏                  | 318.9 MB 6.7 MB/s eta 0:01:08\r",
      "\u001b[K     |█████████████▏                  | 319.0 MB 6.7 MB/s eta 0:01:08\r",
      "\u001b[K     |█████████████▏                  | 319.0 MB 6.7 MB/s eta 0:01:08\r",
      "\u001b[K     |█████████████▏                  | 319.0 MB 6.7 MB/s eta 0:01:08\r",
      "\u001b[K"
     ]
    },
    {
     "name": "stdout",
     "output_type": "stream",
     "text": [
      "\u001b[K     |████████████████████████████▌   | 690.5 MB 4.1 MB/s eta 0:00:227     |█████████████▋                  | 330.6 MB 14.7 MB/s eta 0:00:31     |█████████████▉                  | 336.0 MB 14.7 MB/s eta 0:00:30     |██████████████                  | 338.2 MB 14.7 MB/s eta 0:00:30     |██████████████                  | 341.2 MB 9.0 MB/s eta 0:00:49     |██████████████▎                 | 345.5 MB 9.0 MB/s eta 0:00:48     |██████████████▎                 | 346.1 MB 9.0 MB/s eta 0:00:48     |██████████████▍                 | 350.1 MB 9.0 MB/s eta 0:00:48     |██████████████▋                 | 355.1 MB 13.2 MB/s eta 0:00:32     |██████████████▊                 | 357.8 MB 13.2 MB/s eta 0:00:32     |██████████████▉                 | 359.3 MB 13.2 MB/s eta 0:00:32     |██████████████▉                 | 360.1 MB 13.2 MB/s eta 0:00:32     |███████████████                 | 363.1 MB 13.2 MB/s eta 0:00:32     |███████████████▏                | 369.0 MB 14.0 MB/s eta 0:00:30     |███████████████▎                | 369.8 MB 14.0 MB/s eta 0:00:30     |███████████████▍                | 372.9 MB 14.0 MB/s eta 0:00:29     |████████████████                | 386.2 MB 5.1 MB/s eta 0:01:17     |████████████████                | 388.3 MB 5.1 MB/s eta 0:01:16     |████████████████▏               | 391.4 MB 12.5 MB/s eta 0:00:31     |████████████████▏               | 392.1 MB 12.5 MB/s eta 0:00:31     |████████████████▏               | 392.9 MB 12.5 MB/s eta 0:00:31     |████████████████▍               | 397.3 MB 12.5 MB/s eta 0:00:31     |████████████████▋               | 403.2 MB 12.5 MB/s eta 0:00:30     |████████████████▊               | 404.5 MB 10.8 MB/s eta 0:00:35     |█████████████████               | 409.9 MB 10.8 MB/s eta 0:00:35     |█████████████████▎              | 418.8 MB 4.7 MB/s eta 0:01:17     |█████████████████▌              | 424.2 MB 4.7 MB/s eta 0:01:16     |█████████████████▌              | 425.7 MB 4.7 MB/s eta 0:01:15     |█████████████████▊              | 430.9 MB 5.1 MB/s eta 0:01:08     |██████████████████              | 434.6 MB 5.1 MB/s eta 0:01:07     |██████████████████              | 436.1 MB 5.1 MB/s eta 0:01:07     |██████████████████              | 437.7 MB 5.1 MB/s eta 0:01:07     |██████████████████▏             | 440.8 MB 5.1 MB/s eta 0:01:06     |██████████████████▏             | 442.0 MB 5.1 MB/s eta 0:01:06     |██████████████████▍             | 445.7 MB 5.4 MB/s eta 0:01:02     |██████████████████▉             | 456.2 MB 5.4 MB/s eta 0:01:00     |███████████████████             | 461.5 MB 9.9 MB/s eta 0:00:32     |███████████████████             | 463.0 MB 9.9 MB/s eta 0:00:32     |███████████████████▎            | 466.8 MB 9.9 MB/s eta 0:00:32     |███████████████████▎            | 467.5 MB 9.9 MB/s eta 0:00:32     |███████████████████▍            | 470.5 MB 36.2 MB/s eta 0:00:09     |███████████████████▍            | 471.2 MB 36.2 MB/s eta 0:00:09     |███████████████████▌            | 471.9 MB 36.2 MB/s eta 0:00:09     |███████████████████▉            | 481.6 MB 36.2 MB/s eta 0:00:09     |████████████████████            | 483.8 MB 15.0 MB/s eta 0:00:20     |████████████████████            | 485.4 MB 15.0 MB/s eta 0:00:20     |████████████████████            | 486.9 MB 15.0 MB/s eta 0:00:20     |████████████████████▏           | 489.3 MB 15.0 MB/s eta 0:00:20     |████████████████████▋           | 499.3 MB 14.4 MB/s eta 0:00:20     |████████████████████▋           | 500.0 MB 14.4 MB/s eta 0:00:20     |████████████████████▊           | 503.2 MB 14.4 MB/s eta 0:00:19     |████████████████████▉           | 506.4 MB 14.4 MB/s eta 0:00:19     |█████████████████████           | 510.0 MB 35.3 MB/s eta 0:00:08     |█████████████████████           | 512.1 MB 35.3 MB/s eta 0:00:08     |█████████████████████▏          | 514.5 MB 35.3 MB/s eta 0:00:08     |█████████████████████▍          | 519.2 MB 35.3 MB/s eta 0:00:08     |█████████████████████▋          | 523.8 MB 5.3 MB/s eta 0:00:48     |█████████████████████▋          | 525.2 MB 5.3 MB/s eta 0:00:48     |█████████████████████▊          | 528.2 MB 5.3 MB/s eta 0:00:48     |█████████████████████▉          | 529.6 MB 5.3 MB/s eta 0:00:47     |█████████████████████▉          | 530.4 MB 5.3 MB/s eta 0:00:47     |██████████████████████▏         | 537.7 MB 13.5 MB/s eta 0:00:18     |██████████████████████▎         | 539.9 MB 13.5 MB/s eta 0:00:18     |██████████████████████▍         | 543.5 MB 13.5 MB/s eta 0:00:18     |██████████████████████▋         | 548.1 MB 13.5 MB/s eta 0:00:17     |██████████████████████▋         | 549.5 MB 16.2 MB/s eta 0:00:15     |██████████████████████▊         | 550.8 MB 16.2 MB/s eta 0:00:14     |██████████████████████▊         | 551.6 MB 16.2 MB/s eta 0:00:14     |██████████████████████▉         | 554.3 MB 16.2 MB/s eta 0:00:14     |███████████████████████▏        | 561.1 MB 16.2 MB/s eta 0:00:14     |███████████████████████▎        | 563.9 MB 4.6 MB/s eta 0:00:46     |███████████████████████▍        | 567.0 MB 4.6 MB/s eta 0:00:46     |███████████████████████▍        | 567.7 MB 4.6 MB/s eta 0:00:46     |███████████████████████▌        | 569.3 MB 4.6 MB/s eta 0:00:45     |███████████████████████▋        | 572.3 MB 4.6 MB/s eta 0:00:45     |███████████████████████▉        | 576.9 MB 4.5 MB/s eta 0:00:45     |████████████████████████        | 579.8 MB 4.5 MB/s eta 0:00:44     |████████████████████████▏       | 586.5 MB 4.5 MB/s eta 0:00:43     |████████████████████████▏       | 587.2 MB 4.5 MB/s eta 0:00:43     |████████████████████████▎       | 587.9 MB 4.5 MB/s eta 0:00:43     |████████████████████████▎       | 589.4 MB 28.2 MB/s eta 0:00:07     |████████████████████████▍       | 592.2 MB 28.2 MB/s eta 0:00:07     |████████████████████████▋       | 596.6 MB 28.2 MB/s eta 0:00:07     |████████████████████████▊       | 600.9 MB 28.2 MB/s eta 0:00:07     |████████████████████████▉       | 601.6 MB 17.0 MB/s eta 0:00:11     |█████████████████████████       | 605.4 MB 17.0 MB/s eta 0:00:11     |█████████████████████████       | 606.1 MB 17.0 MB/s eta 0:00:10MB/s eta 0:00:10     |█████████████████████████▍      | 614.6 MB 4.0 MB/s eta 0:00:41     |█████████████████████████▍      | 615.3 MB 4.0 MB/s eta 0:00:41     |█████████████████████████▋      | 620.7 MB 4.0 MB/s eta 0:00:40     |█████████████████████████▋      | 622.2 MB 4.0 MB/s eta 0:00:39     |█████████████████████████▊      | 623.0 MB 4.0 MB/s eta 0:00:39     |█████████████████████████▉      | 626.1 MB 4.0 MB/s eta 0:00:39     |█████████████████████████▉      | 627.4 MB 13.0 MB/s eta 0:00:12     |██████████████████████████      | 631.8 MB 13.0 MB/s eta 0:00:12     |██████████████████████████▏     | 635.2 MB 13.0 MB/s eta 0:00:11     |██████████████████████████▎     | 636.7 MB 13.0 MB/s eta 0:00:11     |██████████████████████████▍     | 639.7 MB 7.7 MB/s eta 0:00:18     |██████████████████████████▋     | 644.9 MB 7.7 MB/s eta 0:00:18     |██████████████████████████▋     | 646.2 MB 7.7 MB/s eta 0:00:17     |██████████████████████████▊     | 647.0 MB 7.7 MB/s eta 0:00:17     |██████████████████████████▉     | 649.9 MB 7.7 MB/s eta 0:00:17     |██████████████████████████▉     | 650.5 MB 7.7 MB/s eta 0:00:17     |██████████████████████████▉     | 651.8 MB 13.8 MB/s eta 0:00:10     |███████████████████████████     | 655.5 MB 13.8 MB/s eta 0:00:09     |███████████████████████████     | 656.8 MB 13.8 MB/s eta 0:00:09     |███████████████████████████▏    | 659.7 MB 13.8 MB/s eta 0:00:09     |███████████████████████████▏    | 660.4 MB 13.8 MB/s eta 0:00:09     |███████████████████████████▎    | 661.9 MB 13.8 MB/s eta 0:00:09     |███████████████████████████▎    | 662.6 MB 13.8 MB/s eta 0:00:09     |███████████████████████████▌    | 666.2 MB 15.4 MB/s eta 0:00:08     |███████████████████████████▌    | 666.8 MB 15.4 MB/s eta 0:00:08     |███████████████████████████▋    | 668.8 MB 15.4 MB/s eta 0:00:07     |███████████████████████████▋    | 670.6 MB 15.4 MB/s eta 0:00:07     |███████████████████████████▊    | 673.5 MB 15.4 MB/s eta 0:00:07     |███████████████████████████▉    | 676.1 MB 13.0 MB/s eta 0:00:08     |████████████████████████████▏   | 684.6 MB 13.0 MB/s eta 0:00:08     |████████████████████████████▍   | 689.6 MB 4.1 MB/s eta 0:00:22"
     ]
    },
    {
     "name": "stdout",
     "output_type": "stream",
     "text": [
      "\u001b[K     |████████████████████████████████| 776.3 MB 6.4 kB/s  eta 0:00:01    |████████████████████████████▌   | 692.6 MB 4.1 MB/s eta 0:00:21     |████████████████████████████▋   | 693.2 MB 4.1 MB/s eta 0:00:21     |████████████████████████████▊   | 695.6 MB 4.1 MB/s eta 0:00:20     |████████████████████████████▊   | 697.7 MB 4.1 MB/s eta 0:00:20     |████████████████████████████▉   | 698.4 MB 4.1 MB/s eta 0:00:20     |████████████████████████████▉   | 699.2 MB 19.6 MB/s eta 0:00:04     |████████████████████████████▉   | 700.6 MB 19.6 MB/s eta 0:00:04     |█████████████████████████████   | 701.3 MB 19.6 MB/s eta 0:00:04     |█████████████████████████████▏  | 708.8 MB 19.6 MB/s eta 0:00:04     |█████████████████████████████▌  | 714.9 MB 10.4 MB/s eta 0:00:06     |█████████████████████████████▉  | 722.7 MB 10.4 MB/s eta 0:00:06     |██████████████████████████████  | 726.2 MB 4.5 MB/s eta 0:00:12     |██████████████████████████████  | 727.0 MB 4.5 MB/s eta 0:00:12     |██████████████████████████████  | 728.4 MB 4.5 MB/s eta 0:00:11     |██████████████████████████████  | 729.2 MB 4.5 MB/s eta 0:00:11     |██████████████████████████████  | 730.5 MB 4.5 MB/s eta 0:00:11     |██████████████████████████████▏ | 731.2 MB 4.5 MB/s eta 0:00:11     |██████████████████████████████▏ | 732.5 MB 4.5 MB/s eta 0:00:10     |██████████████████████████████▎ | 733.9 MB 4.5 MB/s eta 0:00:10     |██████████████████████████████▍ | 738.0 MB 33.3 MB/s eta 0:00:02     |██████████████████████████████▌ | 738.7 MB 33.3 MB/s eta 0:00:02     |██████████████████████████████▋ | 742.1 MB 33.3 MB/s eta 0:00:02     |███████████████████████████████ | 753.6 MB 15.0 MB/s eta 0:00:02     |███████████████████████████████▏| 755.7 MB 15.0 MB/s eta 0:00:02     |███████████████████████████████▎| 757.8 MB 15.0 MB/s eta 0:00:02     |███████████████████████████████▎| 758.5 MB 15.0 MB/s eta 0:00:02     |███████████████████████████████▍| 760.7 MB 5.6 MB/s eta 0:00:03     |███████████████████████████████▌| 763.6 MB 5.6 MB/s eta 0:00:03     |███████████████████████████████▌| 764.3 MB 5.6 MB/s eta 0:00:03     |███████████████████████████████▋| 767.8 MB 5.6 MB/s eta 0:00:02     |███████████████████████████████▊| 768.4 MB 5.6 MB/s eta 0:00:02     |███████████████████████████████▉| 771.9 MB 45.0 MB/s eta 0:00:01     |████████████████████████████████| 774.1 MB 45.0 MB/s eta 0:00:01     |████████████████████████████████| 774.9 MB 45.0 MB/s eta 0:00:01\n",
      "\u001b[?25hRequirement already satisfied: urllib3>=1.25 in /opt/conda/lib/python3.7/site-packages (from torchdata) (1.25.7)\n",
      "Collecting portalocker>=2.0.0\n",
      "  Downloading portalocker-2.5.1-py2.py3-none-any.whl (15 kB)\n",
      "Requirement already satisfied: certifi>=2017.4.17 in /opt/conda/lib/python3.7/site-packages (from requests->torchdata) (2019.11.28)\n",
      "Requirement already satisfied: chardet<4,>=3.0.2 in /opt/conda/lib/python3.7/site-packages (from requests->torchdata) (3.0.4)\n",
      "Requirement already satisfied: idna<3,>=2.5 in /opt/conda/lib/python3.7/site-packages (from requests->torchdata) (2.9)\n",
      "Requirement already satisfied: typing-extensions in /opt/conda/lib/python3.7/site-packages (from torch==1.12.1->torchdata) (3.7.4.1)\n",
      "\u001b[31mERROR: torchvision 0.10.0 has requirement torch==1.9.0, but you'll have torch 1.12.1 which is incompatible.\u001b[0m\n",
      "\u001b[31mERROR: torchtext 0.12.0 has requirement torch==1.11.0, but you'll have torch 1.12.1 which is incompatible.\u001b[0m\n",
      "Installing collected packages: torch, portalocker, torchdata\n",
      "\u001b[33m  WARNING: The scripts convert-caffe2-to-onnx, convert-onnx-to-caffe2 and torchrun are installed in '/root/.local/bin' which is not on PATH.\n",
      "  Consider adding this directory to PATH or, if you prefer to suppress this warning, use --no-warn-script-location.\u001b[0m\n",
      "Successfully installed portalocker-2.5.1 torch-1.12.1 torchdata-0.4.1\n"
     ]
    }
   ],
   "source": [
    "!pip install torchdata"
   ]
  },
  {
   "cell_type": "code",
   "execution_count": 2,
   "metadata": {
    "colab": {
     "base_uri": "https://localhost:8080/"
    },
    "id": "eg81uNTWixbi",
    "outputId": "9c0f9eda-75fb-4526-e9b6-f9a76eeeb007"
   },
   "outputs": [
    {
     "name": "stderr",
     "output_type": "stream",
     "text": [
      "[nltk_data] Downloading package brown to /root/nltk_data...\n",
      "[nltk_data]   Package brown is already up-to-date!\n",
      "[nltk_data] Downloading package punkt to /root/nltk_data...\n",
      "[nltk_data]   Package punkt is already up-to-date!\n"
     ]
    },
    {
     "data": {
      "text/plain": [
       "True"
      ]
     },
     "execution_count": 2,
     "metadata": {},
     "output_type": "execute_result"
    }
   ],
   "source": [
    "import gensim\n",
    "import nltk\n",
    "import numpy as np\n",
    "import pandas as pd\n",
    "import gzip\n",
    "import torch\n",
    "from nltk.corpus import brown\n",
    "from torchtext.datasets import SQuAD2\n",
    "# Already downloaded\n",
    "nltk.download('brown')\n",
    "nltk.download('punkt')"
   ]
  },
  {
   "cell_type": "code",
   "execution_count": 3,
   "metadata": {},
   "outputs": [],
   "source": [
    "# model = gensim.models.Word2Vec(brown.sents())\n",
    "# model.save('brown.embedding')\n",
    "# w2v = gensim.models.Word2Vec.load('brown.embedding')"
   ]
  },
  {
   "cell_type": "code",
   "execution_count": 4,
   "metadata": {},
   "outputs": [],
   "source": [
    "# Now let's import our files\n",
    "import src.helpers as helpers\n",
    "import src.model as model\n",
    "import src.givens as givens"
   ]
  },
  {
   "cell_type": "code",
   "execution_count": 5,
   "metadata": {},
   "outputs": [],
   "source": [
    "# splitting the training and the test set\n",
    "train_dataset, test_dataset = SQuAD2()"
   ]
  },
  {
   "cell_type": "code",
   "execution_count": 6,
   "metadata": {},
   "outputs": [],
   "source": [
    "# Training dataset to dataframe\n",
    "train_df = givens.loadDF(train_dataset)"
   ]
  },
  {
   "cell_type": "code",
   "execution_count": 7,
   "metadata": {},
   "outputs": [
    {
     "data": {
      "text/html": [
       "<div>\n",
       "<style scoped>\n",
       "    .dataframe tbody tr th:only-of-type {\n",
       "        vertical-align: middle;\n",
       "    }\n",
       "\n",
       "    .dataframe tbody tr th {\n",
       "        vertical-align: top;\n",
       "    }\n",
       "\n",
       "    .dataframe thead th {\n",
       "        text-align: right;\n",
       "    }\n",
       "</style>\n",
       "<table border=\"1\" class=\"dataframe\">\n",
       "  <thead>\n",
       "    <tr style=\"text-align: right;\">\n",
       "      <th></th>\n",
       "      <th>question</th>\n",
       "      <th>answer</th>\n",
       "    </tr>\n",
       "  </thead>\n",
       "  <tbody>\n",
       "    <tr>\n",
       "      <th>0</th>\n",
       "      <td>When did Beyonce start becoming popular?</td>\n",
       "      <td>in the late 1990s</td>\n",
       "    </tr>\n",
       "    <tr>\n",
       "      <th>1</th>\n",
       "      <td>What areas did Beyonce compete in when she was...</td>\n",
       "      <td>singing and dancing</td>\n",
       "    </tr>\n",
       "    <tr>\n",
       "      <th>2</th>\n",
       "      <td>When did Beyonce leave Destiny's Child and bec...</td>\n",
       "      <td>2003</td>\n",
       "    </tr>\n",
       "    <tr>\n",
       "      <th>3</th>\n",
       "      <td>In what city and state did Beyonce  grow up?</td>\n",
       "      <td>Houston, Texas</td>\n",
       "    </tr>\n",
       "    <tr>\n",
       "      <th>4</th>\n",
       "      <td>In which decade did Beyonce become famous?</td>\n",
       "      <td>late 1990s</td>\n",
       "    </tr>\n",
       "  </tbody>\n",
       "</table>\n",
       "</div>"
      ],
      "text/plain": [
       "                                            question               answer\n",
       "0           When did Beyonce start becoming popular?    in the late 1990s\n",
       "1  What areas did Beyonce compete in when she was...  singing and dancing\n",
       "2  When did Beyonce leave Destiny's Child and bec...                 2003\n",
       "3      In what city and state did Beyonce  grow up?        Houston, Texas\n",
       "4         In which decade did Beyonce become famous?           late 1990s"
      ]
     },
     "execution_count": 7,
     "metadata": {},
     "output_type": "execute_result"
    }
   ],
   "source": [
    "# Let's view out dataframe\n",
    "train_df.head()"
   ]
  },
  {
   "cell_type": "code",
   "execution_count": 8,
   "metadata": {},
   "outputs": [
    {
     "name": "stdout",
     "output_type": "stream",
     "text": [
      "Start preparing training data ...\n",
      "Reading lines...\n",
      "Read 86821 sentence pairs\n"
     ]
    }
   ],
   "source": [
    "print(\"Start preparing training data ...\")\n",
    "voc, pairs = helpers.readVocs(train_df, \"train\")\n",
    "print(\"Read {!s} sentence pairs\".format(len(pairs)))"
   ]
  },
  {
   "cell_type": "code",
   "execution_count": 9,
   "metadata": {},
   "outputs": [
    {
     "name": "stdout",
     "output_type": "stream",
     "text": [
      "Trimmed to 29334 sentence pairs\n"
     ]
    }
   ],
   "source": [
    "pairs = helpers.filterPairs(pairs)\n",
    "print(\"Trimmed to {!s} sentence pairs\".format(len(pairs)))"
   ]
  },
  {
   "cell_type": "code",
   "execution_count": 10,
   "metadata": {},
   "outputs": [
    {
     "name": "stdout",
     "output_type": "stream",
     "text": [
      "Counting words...\n",
      "Counted words: 28298\n"
     ]
    }
   ],
   "source": [
    "print(\"Counting words...\")\n",
    "for pair in pairs:\n",
    "    voc.addSentence(pair[0])\n",
    "    voc.addSentence(pair[1])\n",
    "print(\"Counted words:\", voc.num_words)"
   ]
  },
  {
   "cell_type": "code",
   "execution_count": 11,
   "metadata": {},
   "outputs": [
    {
     "name": "stdout",
     "output_type": "stream",
     "text": [
      "['when did beyonce start becoming popular ?', 'in the late s']\n",
      "['in which decade did beyonce become famous ?', 'late s']\n",
      "['what album made her a worldwide known artist ?', 'dangerously in love']\n",
      "['who managed the destiny s child group ?', 'mathew knowles']\n",
      "['when did beyonce rise to fame ?', 'late s']\n"
     ]
    }
   ],
   "source": [
    "for pair in pairs[:5]:\n",
    "    print(pair)"
   ]
  },
  {
   "cell_type": "code",
   "execution_count": 12,
   "metadata": {},
   "outputs": [
    {
     "name": "stdout",
     "output_type": "stream",
     "text": [
      "keep_words 9536 / 28295 = 0.3370\n",
      "Trimmed from 29334 pairs to 13802, 0.4705 of total\n"
     ]
    }
   ],
   "source": [
    "MIN_COUNT = 3    # Minimum word count threshold for trimming\n",
    "\n",
    "\n",
    "\n",
    "def trimRareWords(voc, pairs, MIN_COUNT):\n",
    "    # Trim words used under the MIN_COUNT from the voc\n",
    "    voc.trim(MIN_COUNT)\n",
    "    # Filter out pairs with trimmed words\n",
    "    keep_pairs = []\n",
    "    for pair in pairs:\n",
    "        input_sentence = pair[0]\n",
    "        output_sentence = pair[1]\n",
    "        keep_input = True\n",
    "        keep_output = True\n",
    "        # Check input sentence\n",
    "        for word in input_sentence.split(' '):\n",
    "            if word not in voc.word2index:\n",
    "                keep_input = False\n",
    "                break\n",
    "        # Check output sentence\n",
    "        for word in output_sentence.split(' '):\n",
    "            if word not in voc.word2index:\n",
    "                keep_output = False\n",
    "                break\n",
    "\n",
    "        # Only keep pairs that do not contain trimmed word(s) in their input or output sentence\n",
    "        if keep_input and keep_output:\n",
    "            keep_pairs.append(pair)\n",
    "\n",
    "    print(\"Trimmed from {} pairs to {}, {:.4f} of total\".format(len(pairs), len(keep_pairs), len(keep_pairs) / len(pairs)))\n",
    "    return keep_pairs\n",
    "\n",
    "\n",
    "# Trim voc and pairs\n",
    "pairs = trimRareWords(voc, pairs, MIN_COUNT)"
   ]
  },
  {
   "cell_type": "code",
   "execution_count": 13,
   "metadata": {
    "scrolled": true
   },
   "outputs": [
    {
     "name": "stdout",
     "output_type": "stream",
     "text": [
      "['__class__', '__delattr__', '__dict__', '__dir__', '__doc__', '__eq__', '__format__', '__ge__', '__getattribute__', '__gt__', '__hash__', '__init__', '__init_subclass__', '__le__', '__lt__', '__module__', '__ne__', '__new__', '__reduce__', '__reduce_ex__', '__repr__', '__setattr__', '__sizeof__', '__str__', '__subclasshook__', '__weakref__', 'addSentence', 'addWord', 'index2word', 'name', 'num_words', 'trim', 'trimmed', 'word2count', 'word2index']\n"
     ]
    }
   ],
   "source": [
    "print(dir(voc))"
   ]
  },
  {
   "cell_type": "code",
   "execution_count": 14,
   "metadata": {},
   "outputs": [
    {
     "data": {
      "text/plain": [
       "9539"
      ]
     },
     "execution_count": 14,
     "metadata": {},
     "output_type": "execute_result"
    }
   ],
   "source": [
    "voc.num_words"
   ]
  },
  {
   "cell_type": "code",
   "execution_count": 24,
   "metadata": {},
   "outputs": [],
   "source": [
    "import torch.nn as nn\n",
    "import torch.optim as optim"
   ]
  },
  {
   "cell_type": "code",
   "execution_count": 16,
   "metadata": {},
   "outputs": [],
   "source": [
    "class Encoder(nn.Module):\n",
    "    def __init__(self, input_size, hidden_size, embedding_size):\n",
    "        super(Encoder, self).__init__()\n",
    "        self.hidden_size = hidden_size\n",
    "        self.input_size = input_size\n",
    "        self.embedding_dim = embedding_size\n",
    "\n",
    "        self.hidden = torch.zeros(1, 1, hidden_size)\n",
    "\n",
    "        # self.embedding provides a vector representation of the inputs to our model\n",
    "        self.embedding = nn.Embedding(num_embeddings=self.input_size,\n",
    "                                      embedding_dim=self.embedding_dim)\n",
    "        \n",
    "        # self.lstm, accepts the vectorized input and passes a hidden state\n",
    "        self.lstm = nn.LSTM(input_size=self.embedding_dim,\n",
    "                            hidden_size=self.hidden_size,\n",
    "                            num_layers=1)\n",
    "    # Forward pass\n",
    "    def forward(self, i):\n",
    "        \"\"\"\n",
    "        Inputs: i, the src vector\n",
    "        Outputs: o, the encoder outputs\n",
    "                h, the hidden state\n",
    "                c, the cell state\n",
    "        \"\"\"\n",
    "        embedded = self.embedding(i)\n",
    "        \n",
    "        # Since lstm returns o, h and c, we can directly return it\n",
    "        return self.lstm(embedded)"
   ]
  },
  {
   "cell_type": "code",
   "execution_count": 27,
   "metadata": {},
   "outputs": [],
   "source": [
    "# Decoder class\n",
    "class Decoder(nn.Module):\n",
    "    def __init__(self, hidden_size, output_size, embedding_size):\n",
    "        super(Decoder, self).__init__()\n",
    "        self.hidden_size = hidden_size\n",
    "        self.output_size = output_size\n",
    "        self.embedding_size = embedding_size\n",
    "        \n",
    "        # self.embedding provides a vector representation of the target to our model\n",
    "        self.embedding = nn.Embedding(num_embeddings=self.output_size,\n",
    "                                      embedding_dim=self.embedding_size)\n",
    "        \n",
    "        # self.lstm, accepts the embeddings and outputs a hidden state\n",
    "        self.lstm = nn.LSTM(self.embedding_size, hidden_size, num_layers=3)\n",
    "        \n",
    "        # self.output, predicts on the hidden state via a linear output layer\n",
    "        self.out = nn.Linear(self.hidden_size, self.output_size)\n",
    "        \n",
    "    # Forward pass\n",
    "    def forward(self, i, h, c):\n",
    "        '''\n",
    "        Inputs: i, the target vector\n",
    "        Outputs: o, the prediction\n",
    "                h, the hidden state\n",
    "        '''\n",
    "        unsqueezed = i.unsqueeze(0)\n",
    "        embedded = self.embedding(unsqueezed)\n",
    "        \n",
    "        o, h, c = self.lstm(embedded, (h, c))\n",
    "        \n",
    "        p = self.fc(o.squeeze(0))\n",
    "        \n",
    "        return o, h, p, c"
   ]
  },
  {
   "cell_type": "code",
   "execution_count": 18,
   "metadata": {},
   "outputs": [],
   "source": [
    "class Seq2Seq(nn.Module):\n",
    "    def __init__(self, encoder, decoder):\n",
    "        super(Seq2Seq, self).__init__()\n",
    "        self.encoder = encoder\n",
    "        self.decoder = decoder\n",
    "\n",
    "        \n",
    "    def forward(self, src, trg, teacher_forcing_ratio=0.5):\n",
    "        batch_size = trg.shape[1]\n",
    "        trg_len = trg.shape[0]\n",
    "        trg_vocab_size = self.decoder.output_size\n",
    "        \n",
    "        o = torch.zeros(trg_len, batch_size, trg_vocab_size)\n",
    "        \n",
    "        h, c = self.encoder(src)\n",
    "        \n",
    "        x = trg[0, :]\n",
    "        for t in range(1, trg_len):\n",
    "            o, h, c = self.decoder(x, h, c)\n",
    "            o[t] = o\n",
    "            teacher_force = random.random() < teacher_forcing_ratio\n",
    "            top_trg = o.argmax(1)\n",
    "            x = trg[t] if teacher_force else top_trg\n",
    "            \n",
    "        return o"
   ]
  },
  {
   "cell_type": "code",
   "execution_count": 19,
   "metadata": {},
   "outputs": [],
   "source": [
    "# First initialize our model.\n",
    "input_size = voc.num_words\n",
    "output_size = voc.num_words\n",
    "embedding_size = 256\n",
    "hidden_size = 512"
   ]
  },
  {
   "cell_type": "code",
   "execution_count": 20,
   "metadata": {},
   "outputs": [],
   "source": [
    "encoder = Encoder(input_size=input_size,   hidden_size=hidden_size, embedding_size=embedding_size)\n",
    "decoder = Decoder(hidden_size=hidden_size, output_size=output_size, embedding_size=embedding_size)\n",
    "\n",
    "model = Seq2Seq(encoder, decoder)"
   ]
  },
  {
   "cell_type": "code",
   "execution_count": 22,
   "metadata": {},
   "outputs": [],
   "source": [
    "# Defining hyperparameters\n",
    "lr = 0.001"
   ]
  },
  {
   "cell_type": "code",
   "execution_count": 25,
   "metadata": {},
   "outputs": [],
   "source": [
    "optimizer = optim.Adam(model.parameters(), lr=lr)\n",
    "\n",
    "criterion = nn.CrossEntropyLoss()"
   ]
  },
  {
   "cell_type": "code",
   "execution_count": 26,
   "metadata": {},
   "outputs": [
    {
     "name": "stdout",
     "output_type": "stream",
     "text": [
      "The model has 17,133,891 trainable parameters\n"
     ]
    }
   ],
   "source": [
    "def count_parameters(model):\n",
    "    return sum(p.numel() for p in model.parameters() if p.requires_grad)\n",
    "\n",
    "print(f'The model has {count_parameters(model):,} trainable parameters')"
   ]
  },
  {
   "cell_type": "code",
   "execution_count": null,
   "metadata": {},
   "outputs": [],
   "source": []
  }
 ],
 "metadata": {
  "colab": {
   "collapsed_sections": [],
   "name": "(Starter Code) LSTM Bot",
   "provenance": []
  },
  "kernelspec": {
   "display_name": "Python 3",
   "language": "python",
   "name": "python3"
  },
  "language_info": {
   "codemirror_mode": {
    "name": "ipython",
    "version": 3
   },
   "file_extension": ".py",
   "mimetype": "text/x-python",
   "name": "python",
   "nbconvert_exporter": "python",
   "pygments_lexer": "ipython3",
   "version": "3.7.6"
  }
 },
 "nbformat": 4,
 "nbformat_minor": 1
}
